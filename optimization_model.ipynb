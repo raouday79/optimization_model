{
 "cells": [
  {
   "cell_type": "markdown",
   "id": "a3bd51c1",
   "metadata": {},
   "source": [
    "# Solution 1 :"
   ]
  },
  {
   "cell_type": "code",
   "execution_count": null,
   "id": "18d65dce",
   "metadata": {},
   "outputs": [],
   "source": [
    "from ortools.linear_solver import pywraplp\n",
    "import numpy as np"
   ]
  },
  {
   "cell_type": "code",
   "execution_count": 26,
   "id": "0150f3ff",
   "metadata": {},
   "outputs": [],
   "source": [
    "#Initilize the Solver\n",
    "#We are using the Mixed integer Programming\n",
    "#Variable can take only integer value\n",
    "solver = pywraplp.Solver.CreateSolver('SCIP')\n",
    "infinity = solver.infinity()"
   ]
  },
  {
   "cell_type": "code",
   "execution_count": 27,
   "id": "7e8d7e22",
   "metadata": {},
   "outputs": [],
   "source": [
    "#Creating the decision \n",
    "p1 = solver.IntVar(0, infinity, 'product1')\n",
    "p2 = solver.IntVar(0, infinity, 'product2')\n",
    "p3 = solver.IntVar(0, infinity, 'product3')"
   ]
  },
  {
   "cell_type": "code",
   "execution_count": 28,
   "id": "7a3e988a",
   "metadata": {},
   "outputs": [
    {
     "data": {
      "text/plain": [
       "<ortools.linear_solver.pywraplp.Constraint; proxy of <Swig Object of type 'operations_research::MPConstraint *' at 0x000001D298B865A0> >"
      ]
     },
     "execution_count": 28,
     "metadata": {},
     "output_type": "execute_result"
    }
   ],
   "source": [
    "#Minimum Production Demand Constrain\n",
    "solver.Add(p1 >=100)\n",
    "solver.Add(p2 >=200)\n",
    "solver.Add(p3 >=150)"
   ]
  },
  {
   "cell_type": "code",
   "execution_count": 29,
   "id": "b6c29aab",
   "metadata": {},
   "outputs": [
    {
     "data": {
      "text/plain": [
       "<ortools.linear_solver.pywraplp.Constraint; proxy of <Swig Object of type 'operations_research::MPConstraint *' at 0x000001D298BA4300> >"
      ]
     },
     "execution_count": 29,
     "metadata": {},
     "output_type": "execute_result"
    }
   ],
   "source": [
    "#Raw Material Constrain\n",
    "cons1 = [(p1/2),p2,p3]\n",
    "solver.Add(solver.Sum(cons1)<=500)\n",
    "cons2 = [(2*p1),(p2/2),(p3/5)]\n",
    "solver.Add(solver.Sum(cons2)<=400)"
   ]
  },
  {
   "cell_type": "code",
   "execution_count": 30,
   "id": "9c9d363e",
   "metadata": {},
   "outputs": [],
   "source": [
    "#DEfining the objective function\n",
    "objective_terms = [(2*p1),5*p2,4*p3]\n",
    "solver.Maximize(solver.Sum(objective_terms))"
   ]
  },
  {
   "cell_type": "code",
   "execution_count": 31,
   "id": "41acbc95",
   "metadata": {},
   "outputs": [],
   "source": [
    "#Solving the Equation\n",
    "status = solver.Solve()\n",
    "#print(status)"
   ]
  },
  {
   "cell_type": "code",
   "execution_count": 32,
   "id": "118e368b",
   "metadata": {},
   "outputs": [
    {
     "name": "stdout",
     "output_type": "stream",
     "text": [
      "Z value or Net Profit Amount ₹: 2300.0\n",
      "Production Plan are below : \n",
      "Product 1 :  100 Unit\n",
      "Product 2 :  300 Unit\n",
      "Product 3 :  150 Unit\n"
     ]
    }
   ],
   "source": [
    "if status == pywraplp.Solver.OPTIMAL or status==pywraplp.Solver.FEASIBLE:\n",
    "    print('Z value or Net Profit Amount ₹:',solver.Objective().Value())\n",
    "    print('Production Plan are below : ')\n",
    "    print('Product 1 : ',int(p1.solution_value()),'Unit')\n",
    "    print('Product 2 : ',int(p2.solution_value()),'Unit')\n",
    "    print('Product 3 : ',int(p3.solution_value()),'Unit')"
   ]
  },
  {
   "cell_type": "code",
   "execution_count": null,
   "id": "8f1f2203",
   "metadata": {},
   "outputs": [],
   "source": []
  },
  {
   "cell_type": "code",
   "execution_count": null,
   "id": "d30ce7cf",
   "metadata": {},
   "outputs": [],
   "source": []
  },
  {
   "cell_type": "markdown",
   "id": "d600e486",
   "metadata": {},
   "source": [
    "# Solution 2 : "
   ]
  },
  {
   "cell_type": "code",
   "execution_count": 33,
   "id": "df0f696a",
   "metadata": {},
   "outputs": [],
   "source": [
    "from ortools.linear_solver import pywraplp\n",
    "import numpy as np"
   ]
  },
  {
   "cell_type": "code",
   "execution_count": 34,
   "id": "1682f880",
   "metadata": {},
   "outputs": [],
   "source": [
    "solver = pywraplp.Solver.CreateSolver('SCIP')\n",
    "infinity = solver.infinity()"
   ]
  },
  {
   "cell_type": "code",
   "execution_count": 35,
   "id": "daef6e2d",
   "metadata": {},
   "outputs": [],
   "source": [
    "#Declaring the decision variable\n",
    "x1 = solver.IntVar(0, infinity, 'part1')\n",
    "x2 = solver.IntVar(0, infinity, 'part2')\n",
    "x3 = solver.IntVar(0, infinity, 'part3')"
   ]
  },
  {
   "cell_type": "code",
   "execution_count": 36,
   "id": "498215c3",
   "metadata": {},
   "outputs": [
    {
     "data": {
      "text/plain": [
       "<ortools.linear_solver.pywraplp.Constraint; proxy of <Swig Object of type 'operations_research::MPConstraint *' at 0x000001D298B654E0> >"
      ]
     },
     "execution_count": 36,
     "metadata": {},
     "output_type": "execute_result"
    }
   ],
   "source": [
    "#Adding the Minimum part constrain\n",
    "solver.Add(x1 >=6)\n",
    "solver.Add(x2 >=5)\n",
    "solver.Add(x3 >=4)"
   ]
  },
  {
   "cell_type": "code",
   "execution_count": 37,
   "id": "9ec8c299",
   "metadata": {},
   "outputs": [],
   "source": [
    "#Storing the vaiable in List\n",
    "variable=[x1,x2,x3]"
   ]
  },
  {
   "cell_type": "code",
   "execution_count": 38,
   "id": "13d60143",
   "metadata": {},
   "outputs": [],
   "source": [
    "#Selling Price\n",
    "selling_price = [46,55,75]\n",
    "\n",
    "#raw Material Cost\n",
    "raw_material_cost = [31,35,55]\n",
    "\n",
    "#Manufacturing Cost\n",
    "manufacturing_cost = [(100/25)+(150/25)+(150/40), (100/40)+(150/20)+(150/30), (100/25)+(150/20)+(150/40)]\n",
    "\n",
    "#Creating objective list\n",
    "obj_list =[]\n",
    "for i in range(0,len(selling_price)):\n",
    "    obj_list.append((selling_price[i]-raw_material_cost[i]-manufacturing_cost[i])*variable[i])"
   ]
  },
  {
   "cell_type": "code",
   "execution_count": 39,
   "id": "33e81a93",
   "metadata": {},
   "outputs": [],
   "source": [
    "#Maximization of profit, calling maximize function\n",
    "solver.Maximize(solver.Sum(obj_list))"
   ]
  },
  {
   "cell_type": "code",
   "execution_count": 40,
   "id": "7b57e713",
   "metadata": {},
   "outputs": [
    {
     "data": {
      "text/plain": [
       "<ortools.linear_solver.pywraplp.Constraint; proxy of <Swig Object of type 'operations_research::MPConstraint *' at 0x000001D298B860C0> >"
      ]
     },
     "execution_count": 40,
     "metadata": {},
     "output_type": "execute_result"
    }
   ],
   "source": [
    "# Constrain for Drilling\n",
    "cons1 = [(x1/25),(x2/40),(x3/25)]\n",
    "\n",
    "# Constrain for Shaping \n",
    "cons2 = [(x1/25),(x2/20),(x3/20)]\n",
    "\n",
    "# Constrain for Polishing\n",
    "cons3 = [(x1/40),(x2/30),(x3/40)]\n",
    "\n",
    "#Adding the Constrain to solver with utilization limit upto 1\n",
    "solver.Add(solver.Sum(cons1)<=1)\n",
    "solver.Add(solver.Sum(cons2)<=1)\n",
    "solver.Add(solver.Sum(cons2)<=1)"
   ]
  },
  {
   "cell_type": "code",
   "execution_count": 41,
   "id": "35790a03",
   "metadata": {},
   "outputs": [],
   "source": [
    "#Solving the Equation\n",
    "status = solver.Solve()\n",
    "#print(status)"
   ]
  },
  {
   "cell_type": "code",
   "execution_count": 42,
   "id": "99d3c4a8",
   "metadata": {},
   "outputs": [
    {
     "name": "stdout",
     "output_type": "stream",
     "text": [
      "Z value or Net Profit Amount : ₹ 81.5\n",
      "No of Part1 for Automatic Washine Machine  6 Unit\n",
      "No of Part2 for Automatic Washine Machine  11 Unit\n",
      "No of Part3 for Automatic Washine Machine  4 Unit\n"
     ]
    }
   ],
   "source": [
    "if status == pywraplp.Solver.OPTIMAL or status==pywraplp.Solver.FEASIBLE:\n",
    "    print('Z value or Net Profit Amount : ₹',solver.Objective().Value())\n",
    "    print('No of Part1 for Automatic Washine Machine ',int(x1.solution_value()),'Unit')\n",
    "    print('No of Part2 for Automatic Washine Machine ',int(x2.solution_value()),'Unit')\n",
    "    print('No of Part3 for Automatic Washine Machine ',int(x3.solution_value()),'Unit')"
   ]
  },
  {
   "cell_type": "code",
   "execution_count": null,
   "id": "8cc5b7e2",
   "metadata": {},
   "outputs": [],
   "source": []
  }
 ],
 "metadata": {
  "kernelspec": {
   "display_name": "Python 3",
   "language": "python",
   "name": "python3"
  },
  "language_info": {
   "codemirror_mode": {
    "name": "ipython",
    "version": 3
   },
   "file_extension": ".py",
   "mimetype": "text/x-python",
   "name": "python",
   "nbconvert_exporter": "python",
   "pygments_lexer": "ipython3",
   "version": "3.9.4"
  }
 },
 "nbformat": 4,
 "nbformat_minor": 5
}
